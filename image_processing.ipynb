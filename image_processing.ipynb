{
  "nbformat": 4,
  "nbformat_minor": 0,
  "metadata": {
    "colab": {
      "provenance": []
    },
    "kernelspec": {
      "name": "python3",
      "display_name": "Python 3"
    },
    "language_info": {
      "name": "python"
    }
  },
  "cells": [
    {
      "cell_type": "markdown",
      "source": [
        "# **                                       1. Introduction to image processing**\n",
        "Image processing is a method to perform some operations on an image, in order to get an enhanced image or to extract some useful information from it. It is a type of signal processing in which input is an image and output may be image or characteristics/features associated with that image. Nowadays, image processing is among rapidly growing technologies. It forms core research area within engineering and computer science disciplines too.\n",
        "\n",
        "Image processing basically includes the following three steps:\n",
        "\n",
        "Importing the image via image acquisition tools;\n",
        "Analysing and manipulating the image;\n",
        "Output in which result can be altered image or report that is based on image analysis."
      ],
      "metadata": {
        "id": "sxwv41TYqrdo"
      }
    },
    {
      "cell_type": "code",
      "execution_count": 1,
      "metadata": {
        "id": "kDblib3MCuz8"
      },
      "outputs": [],
      "source": [
        "import numpy as np"
      ]
    },
    {
      "cell_type": "markdown",
      "source": [
        "# **NumPy (Numerical Python) is an open source Python library **\n",
        "that’s used in almost every field of science and engineering. It’s the universal standard for working with numerical data in Python, and it’s at the core of the scientific Python and PyData ecosystems. NumPy users include everyone from beginning coders to experienced researchers doing state-of-the-art scientific and industrial research and development. The NumPy API is used extensively in Pandas, SciPy, Matplotlib, scikit-learn, scikit-image and most other data science and scientific Python packages"
      ],
      "metadata": {
        "id": "RhsqeFXcrO6e"
      }
    },
    {
      "cell_type": "code",
      "source": [
        "import matplotlib.pylab as plt"
      ],
      "metadata": {
        "id": "MnskY7dQET-m"
      },
      "execution_count": 2,
      "outputs": []
    },
    {
      "cell_type": "markdown",
      "source": [
        "# **matplotlib.pyplot is a collection of functions**\n",
        " that make matplotlib work like MATLAB. Each pyplot function makes some change to a figure: e.g., creates a figure, creates a plotting area in a figure, plots some lines in a plotting area, decorates the plot with labels, etc"
      ],
      "metadata": {
        "id": "5ZksOCIwrUWv"
      }
    },
    {
      "cell_type": "code",
      "source": [
        "from skimage import io"
      ],
      "metadata": {
        "id": "ZO7OIXCMmP67"
      },
      "execution_count": 3,
      "outputs": []
    },
    {
      "cell_type": "markdown",
      "source": [
        "# **scikit-image (formerly scikits.image) is an open-source image processing library **\n",
        "for the Python programming language.[2] It includes algorithms for segmentation, geometric transformations, color space manipulation, analysis, filtering, morphology, feature detection, and more.[3] It is designed to interoperate with the Python numerical and scientific libraries NumPy and SciPy."
      ],
      "metadata": {
        "id": "7TZlHuZMsPCS"
      }
    },
    {
      "cell_type": "code",
      "source": [
        "from PIL import Image"
      ],
      "metadata": {
        "id": "tZLrDQ2upm5x"
      },
      "execution_count": 14,
      "outputs": []
    },
    {
      "cell_type": "markdown",
      "source": [
        "# **The Pillow library**\n",
        "contains all the basic image processing functionality. You can do image resizing, rotation and transformation. Pillow module allows you to pull some statistics data out of image using histogram method, which later can be used for statistical analysis and automatic contrast enhancement."
      ],
      "metadata": {
        "id": "l7nn7ExAse1X"
      }
    },
    {
      "cell_type": "code",
      "source": [],
      "metadata": {
        "id": "VkRkCxwosQmz"
      },
      "execution_count": null,
      "outputs": []
    },
    {
      "cell_type": "code",
      "source": [
        "\n",
        "print(\"PLEASE WAIT TO LOAD THE IMAGE AS SAMPLE\")\n",
        "print(\"PLEASE CHOOSE YOU CHOICE FOR THE IMAGE PROCESSING\")"
      ],
      "metadata": {
        "colab": {
          "base_uri": "https://localhost:8080/"
        },
        "id": "0e1bi8BbmS0X",
        "outputId": "7f1cab0b-e6bf-4b48-ed18-4c218ef698d7"
      },
      "execution_count": 7,
      "outputs": [
        {
          "output_type": "stream",
          "name": "stdout",
          "text": [
            "PLEASE WAIT TO LOAD THE IMAGE AS SAMPLE\n",
            "PLEASE CHOOSE YOU CHOICE FOR THE IMAGE PROCESSING\n"
          ]
        }
      ]
    },
    {
      "cell_type": "code",
      "source": [
        "print(\"Enter your choices\")\n",
        "print(\"1:TO LOAD IMAGE \\n 2: EDITING \\n 3 SAVING \\n 4 EXIT\")\n",
        "choice_req=int(input(\"user need to Enter the choice:\"))"
      ],
      "metadata": {
        "colab": {
          "base_uri": "https://localhost:8080/"
        },
        "id": "fuHvzJq9m9Nv",
        "outputId": "cba70059-0c1a-404c-c7b6-0a03ed985eaf"
      },
      "execution_count": 8,
      "outputs": [
        {
          "name": "stdout",
          "output_type": "stream",
          "text": [
            "Enter your choices\n",
            "1:TO LOAD IMAGE \n",
            " 2: EDITING \n",
            " 3 SAVING \n",
            " 4 EXIT\n",
            "user need to Enter the choice:1\n"
          ]
        }
      ]
    },
    {
      "cell_type": "code",
      "source": [
        "np_image=io.imread('task2.png')"
      ],
      "metadata": {
        "id": "p_k_EduUnG_w"
      },
      "execution_count": 10,
      "outputs": []
    },
    {
      "cell_type": "code",
      "source": [
        "print(\"YOUR SAMPLE IMAGE LOOKS LIKE\")"
      ],
      "metadata": {
        "colab": {
          "base_uri": "https://localhost:8080/"
        },
        "id": "VU8Pr_sjn3OL",
        "outputId": "03713f63-9631-4ce0-bdb6-895b62fdf939"
      },
      "execution_count": 11,
      "outputs": [
        {
          "output_type": "stream",
          "name": "stdout",
          "text": [
            "YOUR SAMPLE IMAGE LOOKS LIKE\n"
          ]
        }
      ]
    },
    {
      "cell_type": "code",
      "source": [],
      "metadata": {
        "id": "mXBnw71Inng6"
      },
      "execution_count": null,
      "outputs": []
    },
    {
      "cell_type": "code",
      "source": [
        "if choice_req==1:\n",
        "  plt.imshow(np_image)\n"
      ],
      "metadata": {
        "colab": {
          "base_uri": "https://localhost:8080/",
          "height": 256
        },
        "id": "S9YCg4DMn9_3",
        "outputId": "74096583-f9a9-40bf-82f1-5085a4e1f3d6"
      },
      "execution_count": 15,
      "outputs": [
        {
          "output_type": "display_data",
          "data": {
            "text/plain": [
              "<Figure size 432x288 with 1 Axes>"
            ],
            "image/png": "[encoded data removed]"
          },
          "metadata": {
            "needs_background": "light"
          }
        }
      ]
    },
    {
      "cell_type": "code",
      "source": [
        "from skimage.io import util\n",
        "k=1\n",
        "if choice_req==2:\n",
        "  print(\"How you want to edit\\n 1 for hor flip\\n 2 for vertical flip \\n 3 for invert colors\\n 4 for grayscale\\n 5 for black ans white\\n\")\n",
        "  im=int(input(\"Enter your choice:\"))\n",
        "  if im==1:\n",
        "    x=np_image[:,::-1]\n",
        "    plt.imshow(x)\n",
        "  elif im==2:\n",
        "      # vertical_flip(np_image)\n",
        "    x=np_image[::-1,:]\n",
        "    plt.imshow(x)\n",
        "       \n",
        "  elif im==3:\n",
        "    x=util.invert(np_image)\n",
        "    plt.imshow(x)\n",
        "       \n",
        "  elif im==4:\n",
        "      # graysacle()\n",
        "    x=io.imread('task2.png',as_gray=True)\n",
        "    plt.imshow(x)\n",
        "  elif im==5:\n",
        "    ig=Image.open('task2.png')\n",
        "    bw=im.convert('1')\n",
        "    print(bw)\n",
        "  else:\n",
        "    k+=1\n",
        "elif choice_req==3:\n",
        "  print(\"YOUR IMAGE IS SAVED\")\n",
        "else:\n",
        "  k+=1      \n",
        "\n",
        "      \n",
        "\n"
      ],
      "metadata": {
        "id": "vb7VmZpUorJi"
      },
      "execution_count": 17,
      "outputs": []
    },
    {
      "cell_type": "markdown",
      "source": [
        "# **Applications of Image Processing**\n",
        "# Medical Image Retrieval\n",
        "Image processing has been extensively used in medical research and has enabled more efficient and accurate treatment plans. For example, it can be used for the early detection of breast cancer using a sophisticated nodule detection algorithm in breast scans. Since medical usage calls for highly trained image processors, these applications require significant implementation and evaluation before they can be accepted for use.\n",
        "\n",
        "Traffic Sensing Technologies\n",
        "In the case of traffic sensors, we use a video image processing system or VIPS. This consists of a) an image capturing system b) a telecommunication system and c) an image processing system. When capturing video, a VIPS has several detection zones which output an “on” signal whenever a vehicle enters the zone, and then output an “off” signal whenever the vehicle exits the detection zone. These detection zones can be set up for multiple lanes and can be used to sense the traffic in a particular station."
      ],
      "metadata": {
        "id": "Z4urA7NstPrs"
      }
    },
    {
      "cell_type": "code",
      "source": [],
      "metadata": {
        "id": "jRTesQi6qZg_"
      },
      "execution_count": null,
      "outputs": []
    }
  ]
}